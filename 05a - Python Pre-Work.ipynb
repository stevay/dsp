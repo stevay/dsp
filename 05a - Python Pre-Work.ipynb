{
 "cells": [
  {
   "cell_type": "markdown",
   "metadata": {},
   "source": [
    "## Use this space for Python coding / debugging"
   ]
  },
  {
   "cell_type": "code",
   "execution_count": null,
   "metadata": {},
   "outputs": [],
   "source": [
    "my_list = [1,2,3,4]\n",
    "f = lambda my_list: [x for x in my_list if x % 2 == 0]\n",
    "#[x for x in my_list if x % 2 == 0]\n",
    "f(my_list)"
   ]
  },
  {
   "cell_type": "code",
   "execution_count": null,
   "metadata": {},
   "outputs": [],
   "source": [
    "# Map Function\n",
    "\n",
    "# Your answer should be one line. Use map.\n",
    "items_squared = list(map(sqr,items_list))"
   ]
  },
  {
   "cell_type": "code",
   "execution_count": 3,
   "metadata": {},
   "outputs": [
    {
     "name": "stdout",
     "output_type": "stream",
     "text": [
      "[2, 4, 10]\n"
     ]
    }
   ],
   "source": [
    "# Complete the function below.\n",
    "\n",
    "my_list = [2, 4, 10, 3, 1]\n",
    "\n",
    "#f = lambda my_list: \n",
    "\n",
    "f = list(filter(lambda num: num % 2 == 0, my_list))\n",
    "\n",
    "\n",
    "print (f)"
   ]
  },
  {
   "cell_type": "code",
   "execution_count": null,
   "metadata": {},
   "outputs": [],
   "source": [
    "# datetimes\n",
    "\n",
    "def difference_in_days(date1, date2):\n",
    "    date1_convert = datetime.strptime(date1,'%m-%d-%Y')\n",
    "    date2_convert = datetime.strptime(date2,'%m-%d-%Y')\n",
    "    return abs((date2_convert - date1_convert).days)\n"
   ]
  },
  {
   "cell_type": "code",
   "execution_count": null,
   "metadata": {},
   "outputs": [],
   "source": [
    "# List comprehension\n",
    "\n",
    "celsius = [39.2, 36.5, 37.3, 0, 20]\n",
    "# write your answer in one line. use a list comprehension. use the variable \"celsius\"\n",
    "fahrenheit = [(float(9/5)*x + 32) for x in celsius]"
   ]
  },
  {
   "cell_type": "code",
   "execution_count": null,
   "metadata": {},
   "outputs": [],
   "source": [
    "\n",
    "def donuts(count):\n",
    "    if count >= 10:\n",
    "        return 'Number of donuts: many'\n",
    "    else:\n",
    "        answer = 'Number of donuts: ' + str(count)\n",
    "        return answer"
   ]
  },
  {
   "cell_type": "code",
   "execution_count": null,
   "metadata": {},
   "outputs": [],
   "source": [
    "def both_ends(s):\n",
    "    if len(s) < 2:\n",
    "        return ''\n",
    "    else:\n",
    "        answer = s[:2] + s[-2:]\n",
    "        return answer"
   ]
  },
  {
   "cell_type": "code",
   "execution_count": null,
   "metadata": {},
   "outputs": [],
   "source": [
    "\n",
    "def fix_start(s):\n",
    "    occur = s[0]\n",
    "    updated_string = ''\n",
    "    for x in range(len(s)):\n",
    "        if s[x] == occur and x != 0:\n",
    "            updated_string = updated_string + '*'\n",
    "        else:\n",
    "            updated_string = updated_string + s[x]\n",
    "    return updated_string"
   ]
  },
  {
   "cell_type": "code",
   "execution_count": null,
   "metadata": {},
   "outputs": [],
   "source": [
    "def mix_up(a, b):\n",
    "    first_2_a = a[:2]\n",
    "    first_2_b = b[:2]\n",
    "    updated_string = first_2_b\n",
    "    for x in range(len(a)):\n",
    "        if x > 1:\n",
    "            updated_string = updated_string + a[x]\n",
    "    updated_string = updated_string + ' ' + first_2_a\n",
    "    for y in range(len(b)):\n",
    "        if y > 1:\n",
    "            updated_string = updated_string + b[y]\n",
    "    return updated_string"
   ]
  },
  {
   "cell_type": "code",
   "execution_count": null,
   "metadata": {},
   "outputs": [],
   "source": [
    "def verbing(s):\n",
    "    updated_string = ''\n",
    "    if len(s) >= 3 and s[-3:] != 'ing':\n",
    "        updated_string = s + 'ing'\n",
    "    elif len(s) >= 3 and s[-3:] == 'ing':\n",
    "        updated_string = s + 'ly'\n",
    "    else:\n",
    "        updated_string = s\n",
    "    return updated_string"
   ]
  },
  {
   "cell_type": "code",
   "execution_count": null,
   "metadata": {},
   "outputs": [],
   "source": [
    "\n",
    "def not_bad(s):\n",
    "    updated_string = ''\n",
    "    loc_1 = s.find('not')\n",
    "    loc_2 = s.find('bad')\n",
    "    if loc_2 > loc_1:\n",
    "        updated_string = s[:(loc_1)] + 'good' + s[(loc_2+3):]\n",
    "    else:\n",
    "        updated_string = s\n",
    "    return updated_string"
   ]
  },
  {
   "cell_type": "code",
   "execution_count": null,
   "metadata": {},
   "outputs": [],
   "source": [
    "def front_back(s1, s2):\n",
    "    a_front = ''\n",
    "    a_back = ''\n",
    "    b_front = ''\n",
    "    b_back = ''\n",
    "    if len(s1) % 2 == 0:\n",
    "        a_front = s1[:int(len(s1)/2)]\n",
    "        a_back = s1[int(len(s1)/2):]\n",
    "    elif len(s1) % 2 == 1:\n",
    "        a_front = s1[:int(len(s1)/2+0.5)]\n",
    "        a_back = s1[int(len(s1)/2+0.5):]\n",
    "    \n",
    "    if len(s2) % 2 == 0:\n",
    "        b_front = s2[:int(len(s2)/2)]\n",
    "        b_back = s2[int(len(s2)/2):]\n",
    "    elif len(s2) % 2 == 1:\n",
    "        b_front = s2[:int(len(s2)/2+0.5)]\n",
    "        b_back = s2[int(len(s2)/2+0.5):]\n",
    "    updated_string = a_front + b_front + a_back + b_back\n",
    "    return updated_string\n",
    "        "
   ]
  },
  {
   "cell_type": "code",
   "execution_count": null,
   "metadata": {},
   "outputs": [],
   "source": [
    "def match_ends(s):\n",
    "    counter = 0\n",
    "    for x in s:\n",
    "        if len(x) >= 2 and x[0] == x[len(x)-1]:\n",
    "            counter += 1\n",
    "    return counter"
   ]
  },
  {
   "cell_type": "code",
   "execution_count": 4,
   "metadata": {},
   "outputs": [],
   "source": [
    "random_list = [\"mix\", \"xyz\", \"apple\", \"xanadu\", \"aardvark\"]"
   ]
  },
  {
   "cell_type": "code",
   "execution_count": 37,
   "metadata": {},
   "outputs": [],
   "source": [
    "def front_x(words):\n",
    "    x_list = []\n",
    "    other_list = []\n",
    "    last_list = []\n",
    "    for x in words:\n",
    "        if x[0] == 'x':\n",
    "            x_list.append(x)\n",
    "        else:\n",
    "            other_list.append(x)\n",
    "    x_list.sort()\n",
    "    other_list.sort()\n",
    "    last_list = x_list + other_list\n",
    "    return last_list"
   ]
  },
  {
   "cell_type": "code",
   "execution_count": 38,
   "metadata": {},
   "outputs": [
    {
     "data": {
      "text/plain": [
       "['xanadu', 'xyz', 'aardvark', 'apple', 'mix']"
      ]
     },
     "execution_count": 38,
     "metadata": {},
     "output_type": "execute_result"
    }
   ],
   "source": [
    "front_x(random_list)"
   ]
  },
  {
   "cell_type": "code",
   "execution_count": 39,
   "metadata": {},
   "outputs": [],
   "source": [
    "tuple_sample = (1,2,3,4)"
   ]
  },
  {
   "cell_type": "code",
   "execution_count": 43,
   "metadata": {},
   "outputs": [
    {
     "data": {
      "text/plain": [
       "3"
      ]
     },
     "execution_count": 43,
     "metadata": {},
     "output_type": "execute_result"
    }
   ],
   "source": [
    "tuple_sample[len(tuple_sample)-2]"
   ]
  },
  {
   "cell_type": "code",
   "execution_count": 46,
   "metadata": {},
   "outputs": [],
   "source": [
    "tuples_list = [(1,3),(2,1),(3,2)]"
   ]
  },
  {
   "cell_type": "code",
   "execution_count": 49,
   "metadata": {},
   "outputs": [],
   "source": [
    "def sort_last(tuples):\n",
    "    updated_list = []\n",
    "    #data = tuples\n",
    "    data = sorted(tuples, key=lambda tup: tup[len(tup)-1])\n",
    "    #data.sort(key=lambda tup:tup[len(tup)-1])\n",
    "    return data"
   ]
  },
  {
   "cell_type": "code",
   "execution_count": 50,
   "metadata": {},
   "outputs": [
    {
     "data": {
      "text/plain": [
       "[(2, 1), (3, 2), (1, 3)]"
      ]
     },
     "execution_count": 50,
     "metadata": {},
     "output_type": "execute_result"
    }
   ],
   "source": [
    "sort_last(tuples_list)"
   ]
  },
  {
   "cell_type": "code",
   "execution_count": 51,
   "metadata": {},
   "outputs": [],
   "source": [
    "random_list = [1,2,2,3]"
   ]
  },
  {
   "cell_type": "code",
   "execution_count": 61,
   "metadata": {},
   "outputs": [],
   "source": [
    "def remove_adjacent(nums):\n",
    "    updated_list = []\n",
    "    updated_list.append(nums[0])\n",
    "    for x in range(1,len(nums)):\n",
    "        #print (x)\n",
    "        if nums[x] != nums[x-1]:\n",
    "            updated_list.append(nums[x])\n",
    "    return updated_list\n"
   ]
  },
  {
   "cell_type": "code",
   "execution_count": 62,
   "metadata": {},
   "outputs": [
    {
     "data": {
      "text/plain": [
       "[1, 2, 3]"
      ]
     },
     "execution_count": 62,
     "metadata": {},
     "output_type": "execute_result"
    }
   ],
   "source": [
    "remove_adjacent(random_list)"
   ]
  },
  {
   "cell_type": "code",
   "execution_count": 63,
   "metadata": {},
   "outputs": [],
   "source": [
    "list1 = ['aa','zz','xx']\n",
    "list2 = ['cc','bb']"
   ]
  },
  {
   "cell_type": "code",
   "execution_count": 67,
   "metadata": {},
   "outputs": [],
   "source": [
    "def linear_merge(list1, list2):\n",
    "    combined_list = list1 + list2\n",
    "    combined_list.sort()\n",
    "    \n",
    "    \n",
    "    return combined_list"
   ]
  },
  {
   "cell_type": "code",
   "execution_count": 68,
   "metadata": {},
   "outputs": [
    {
     "data": {
      "text/plain": [
       "['aa', 'bb', 'cc', 'xx', 'zz']"
      ]
     },
     "execution_count": 68,
     "metadata": {},
     "output_type": "execute_result"
    }
   ],
   "source": [
    "linear_merge(list1,list2)"
   ]
  },
  {
   "cell_type": "code",
   "execution_count": 94,
   "metadata": {},
   "outputs": [],
   "source": [
    "import sys\n",
    "import os\n",
    "import csv\n",
    "\n",
    "text = '''Team,Games,Wins,Losses,Draws,Goals,Goals Allowed,Points\n",
    "Arsenal,38,26,9,3,79,36,87\n",
    "Liverpool,38,24,8,6,67,30,80\n",
    "Manchester United,38,24,5,9,87,45,77\n",
    "Newcastle,38,21,8,9,74,52,71\n",
    "Leeds,38,18,12,8,53,37,66\n",
    "Chelsea,38,17,13,8,66,38,64\n",
    "West_Ham,38,15,8,15,48,57,53\n",
    "Aston_Villa,38,12,14,12,46,47,50\n",
    "Tottenham,38,14,8,16,49,53,50\n",
    "Blackburn,38,12,10,16,55,51,46\n",
    "Southampton,38,12,9,17,46,54,45\n",
    "Middlesbrough,38,12,9,17,35,47,45\n",
    "Fulham,38,10,14,14,36,44,44\n",
    "Charlton,38,10,14,14,38,49,44\n",
    "Everton,38,11,10,17,45,57,43\n",
    "Bolton,38,9,13,16,44,62,40\n",
    "Sunderland,38,10,10,18,29,51,40\n",
    "Ipswich,38,9,9,20,41,64,36\n",
    "Derby,38,8,6,24,33,63,30\n",
    "Leicester,38,5,13,20,30,64,28'''\n",
    "\n",
    "with open('football.csv', 'w') as f:\n",
    "    f.write(text)"
   ]
  },
  {
   "cell_type": "code",
   "execution_count": 146,
   "metadata": {},
   "outputs": [],
   "source": [
    "def read_data(filename):\n",
    "    \"\"\"Returns a list of lists representing the rows of the csv file data.\n",
    "\n",
    "    Arguments: filename is the name of a csv file (as a string)\n",
    "    Returns: list of lists of strings, where every line is split into a list of values. \n",
    "        ex: ['Arsenal', 38, 26, 9, 3, 79, 36, 87]\n",
    "    \"\"\"\n",
    "    \n",
    "    f = open(filename,'r')\n",
    "    reader = csv.reader(f)\n",
    "    next(reader)\n",
    "    data = []\n",
    "    for x in reader:\n",
    "        data.append(x)\n",
    "    return data\n",
    "    \n",
    "def get_index_with_min_abs_score_difference(goals):\n",
    "    \"\"\"Returns the index of the team with the smallest difference\n",
    "    between 'for' and 'against' goals, in terms of absolute value.\n",
    "\n",
    "    Arguments: parsed_data is a list of lists of cleaned strings\n",
    "    Returns: integer row index\n",
    "    \"\"\"\n",
    "    \n",
    "    # row-index '5' = Goals scored\n",
    "    # row-index '6' = Goals allowed\n",
    "    min_abs_goals = abs(int(goals[0][5])-int(goals[0][6]))\n",
    "    location_index = 0\n",
    "    for x in range(1,len(goals)):\n",
    "        if abs(int(goals[x][5])-int(goals[x][6])) < min_abs_goals:\n",
    "            min_abs_goals = abs(int(goals[x][5])-int(goals[x][6]))\n",
    "            location_index = x\n",
    "    return location_index\n",
    "        \n",
    "    \n",
    "    \n",
    "def get_team(index_value, parsed_data):\n",
    "    \"\"\"Returns the team name at a given index.\n",
    "    \n",
    "    Arguments: index_value is an integer row index\n",
    "               parsed_data is the output of `read_data` above\n",
    "               \n",
    "    Returns: the team name\n",
    "    \"\"\"\n",
    "    \n",
    "    return parsed_data[index_value][0]\n"
   ]
  },
  {
   "cell_type": "code",
   "execution_count": 145,
   "metadata": {},
   "outputs": [
    {
     "data": {
      "text/plain": [
       "[['Arsenal', '38', '26', '9', '3', '79', '36', '87'],\n",
       " ['Liverpool', '38', '24', '8', '6', '67', '30', '80'],\n",
       " ['Manchester United', '38', '24', '5', '9', '87', '45', '77'],\n",
       " ['Newcastle', '38', '21', '8', '9', '74', '52', '71'],\n",
       " ['Leeds', '38', '18', '12', '8', '53', '37', '66'],\n",
       " ['Chelsea', '38', '17', '13', '8', '66', '38', '64'],\n",
       " ['West_Ham', '38', '15', '8', '15', '48', '57', '53'],\n",
       " ['Aston_Villa', '38', '12', '14', '12', '46', '47', '50'],\n",
       " ['Tottenham', '38', '14', '8', '16', '49', '53', '50'],\n",
       " ['Blackburn', '38', '12', '10', '16', '55', '51', '46'],\n",
       " ['Southampton', '38', '12', '9', '17', '46', '54', '45'],\n",
       " ['Middlesbrough', '38', '12', '9', '17', '35', '47', '45'],\n",
       " ['Fulham', '38', '10', '14', '14', '36', '44', '44'],\n",
       " ['Charlton', '38', '10', '14', '14', '38', '49', '44'],\n",
       " ['Everton', '38', '11', '10', '17', '45', '57', '43'],\n",
       " ['Bolton', '38', '9', '13', '16', '44', '62', '40'],\n",
       " ['Sunderland', '38', '10', '10', '18', '29', '51', '40'],\n",
       " ['Ipswich', '38', '9', '9', '20', '41', '64', '36'],\n",
       " ['Derby', '38', '8', '6', '24', '33', '63', '30'],\n",
       " ['Leicester', '38', '5', '13', '20', '30', '64', '28']]"
      ]
     },
     "execution_count": 145,
     "metadata": {},
     "output_type": "execute_result"
    }
   ],
   "source": [
    "test_list = read_data('football.csv')\n",
    "test_list"
   ]
  },
  {
   "cell_type": "code",
   "execution_count": 144,
   "metadata": {},
   "outputs": [
    {
     "data": {
      "text/plain": [
       "7"
      ]
     },
     "execution_count": 144,
     "metadata": {},
     "output_type": "execute_result"
    }
   ],
   "source": [
    "minRow = get_index_with_min_abs_score_difference(test_list)\n",
    "minRow"
   ]
  },
  {
   "cell_type": "code",
   "execution_count": 147,
   "metadata": {},
   "outputs": [
    {
     "name": "stdout",
     "output_type": "stream",
     "text": [
      "Aston_Villa\n"
     ]
    }
   ],
   "source": [
    "print(str(get_team(minRow, test_list)))"
   ]
  },
  {
   "cell_type": "code",
   "execution_count": null,
   "metadata": {},
   "outputs": [],
   "source": [
    "footballTable = read_data('football.csv')\n",
    "minRow = get_index_with_min_abs_score_difference(footballTable)\n",
    "print(str(get_team(minRow, footballTable)))"
   ]
  },
  {
   "cell_type": "code",
   "execution_count": null,
   "metadata": {},
   "outputs": [],
   "source": [
    "def intersect_lists_2(list1, list2):\n",
    "    set_1 = set(list1)\n",
    "    set_2 = set(list2)\n",
    "    updated_set = set_1.intersection(set_2)\n",
    "    return updated_set"
   ]
  },
  {
   "cell_type": "code",
   "execution_count": 148,
   "metadata": {},
   "outputs": [
    {
     "data": {
      "text/plain": [
       "{'a', 'b', 'c'}"
      ]
     },
     "execution_count": 148,
     "metadata": {},
     "output_type": "execute_result"
    }
   ],
   "source": [
    "list_1 = ['a','b','c']\n",
    "set_1 = set(list_1)\n",
    "set_1"
   ]
  },
  {
   "cell_type": "code",
   "execution_count": null,
   "metadata": {},
   "outputs": [],
   "source": [
    "def remove_duplicates(somelist):\n",
    "    set_list = set(somelist)\n",
    "    return set_list"
   ]
  },
  {
   "cell_type": "markdown",
   "metadata": {},
   "source": [
    "# Python Quick Quiz"
   ]
  },
  {
   "cell_type": "markdown",
   "metadata": {},
   "source": [
    "### defaultdict class"
   ]
  },
  {
   "cell_type": "code",
   "execution_count": 159,
   "metadata": {},
   "outputs": [
    {
     "ename": "KeyError",
     "evalue": "'spam'",
     "output_type": "error",
     "traceback": [
      "\u001b[0;31m---------------------------------------------------------------------------\u001b[0m",
      "\u001b[0;31mKeyError\u001b[0m                                  Traceback (most recent call last)",
      "\u001b[0;32m<ipython-input-159-22dd4d857665>\u001b[0m in \u001b[0;36m<module>\u001b[0;34m()\u001b[0m\n\u001b[1;32m      4\u001b[0m \u001b[0mfood_count\u001b[0m \u001b[0;34m=\u001b[0m \u001b[0mdict\u001b[0m\u001b[0;34m(\u001b[0m\u001b[0;34m)\u001b[0m\u001b[0;34m\u001b[0m\u001b[0m\n\u001b[1;32m      5\u001b[0m \u001b[0;32mfor\u001b[0m \u001b[0mfood\u001b[0m \u001b[0;32min\u001b[0m \u001b[0mfood_list\u001b[0m\u001b[0;34m:\u001b[0m\u001b[0;34m\u001b[0m\u001b[0m\n\u001b[0;32m----> 6\u001b[0;31m     \u001b[0mfood_count\u001b[0m\u001b[0;34m[\u001b[0m\u001b[0mfood\u001b[0m\u001b[0;34m]\u001b[0m \u001b[0;34m+=\u001b[0m \u001b[0;36m1\u001b[0m \u001b[0;31m# increments element's value by 1\u001b[0m\u001b[0;34m\u001b[0m\u001b[0m\n\u001b[0m\u001b[1;32m      7\u001b[0m \u001b[0;34m\u001b[0m\u001b[0m\n\u001b[1;32m      8\u001b[0m \u001b[0mprint\u001b[0m\u001b[0;34m(\u001b[0m\u001b[0mfood_count\u001b[0m\u001b[0;34m)\u001b[0m\u001b[0;34m\u001b[0m\u001b[0m\n",
      "\u001b[0;31mKeyError\u001b[0m: 'spam'"
     ]
    }
   ],
   "source": [
    "food_list = 'spam spam spam spam spam eggs spam'.split()\n",
    "\n",
    "# see if this code works\n",
    "food_count = dict()\n",
    "for food in food_list:\n",
    "    food_count[food] += 1 # increments element's value by 1\n",
    "\n",
    "print(food_count)"
   ]
  },
  {
   "cell_type": "code",
   "execution_count": 162,
   "metadata": {},
   "outputs": [
    {
     "name": "stdout",
     "output_type": "stream",
     "text": [
      "defaultdict(<class 'int'>, {'spam': 6, 'eggs': 1})\n"
     ]
    }
   ],
   "source": [
    "# now try this code\n",
    "from collections import defaultdict\n",
    "\n",
    "food_count = defaultdict(int) # default value of int is 0 \n",
    "for food in food_list:\n",
    "    food_count[food] += 1 # increments element's value by 1\n",
    "\n",
    "print(food_count)"
   ]
  },
  {
   "cell_type": "markdown",
   "metadata": {},
   "source": [
    "### pprint module"
   ]
  },
  {
   "cell_type": "code",
   "execution_count": 172,
   "metadata": {},
   "outputs": [
    {
     "name": "stdout",
     "output_type": "stream",
     "text": [
      "{'first': 123, 'second': 456, 'third': {1: 1, 2: 2}, 'fourth': {1: 1, 2: 2}, 'fifth': 555}\n"
     ]
    }
   ],
   "source": [
    "a = {'first':123, 'second':456,'third':{1:1,2:2},'fourth':{1:1,2:2},'fifth':555}\n",
    "print(a)"
   ]
  },
  {
   "cell_type": "code",
   "execution_count": 173,
   "metadata": {},
   "outputs": [
    {
     "name": "stdout",
     "output_type": "stream",
     "text": [
      "{'fifth': 555,\n",
      " 'first': 123,\n",
      " 'fourth': {1: 1,\n",
      "            2: 2},\n",
      " 'second': 456,\n",
      " 'third': {1: 1,\n",
      "           2: 2}}\n"
     ]
    }
   ],
   "source": [
    "import pprint as pp\n",
    "\n",
    "#pprint.pprint(a)\n",
    "pp.pprint(a,width=2)"
   ]
  },
  {
   "cell_type": "markdown",
   "metadata": {},
   "source": [
    "### enumerate function"
   ]
  },
  {
   "cell_type": "code",
   "execution_count": 174,
   "metadata": {},
   "outputs": [
    {
     "name": "stdout",
     "output_type": "stream",
     "text": [
      "0 It's\n",
      "1 only\n",
      "2 a\n",
      "3 model\n"
     ]
    }
   ],
   "source": [
    "mylist = [\"It's\",'only','a','model']\n",
    "for index,item in enumerate(mylist):\n",
    "    print(index,item)"
   ]
  },
  {
   "cell_type": "code",
   "execution_count": 178,
   "metadata": {},
   "outputs": [
    {
     "ename": "SyntaxError",
     "evalue": "unexpected EOF while parsing (<ipython-input-178-6c97f3df7ce7>, line 3)",
     "output_type": "error",
     "traceback": [
      "\u001b[0;36m  File \u001b[0;32m\"<ipython-input-178-6c97f3df7ce7>\"\u001b[0;36m, line \u001b[0;32m3\u001b[0m\n\u001b[0;31m    print(item.loc\u001b[0m\n\u001b[0m                  ^\u001b[0m\n\u001b[0;31mSyntaxError\u001b[0m\u001b[0;31m:\u001b[0m unexpected EOF while parsing\n"
     ]
    }
   ],
   "source": [
    "mylist = [\"It's\",'only','a','model']\n",
    "for item in mylist:\n",
    "    print(item.loc"
   ]
  },
  {
   "cell_type": "code",
   "execution_count": null,
   "metadata": {},
   "outputs": [],
   "source": []
  }
 ],
 "metadata": {
  "kernelspec": {
   "display_name": "Python [default]",
   "language": "python",
   "name": "python3"
  },
  "language_info": {
   "codemirror_mode": {
    "name": "ipython",
    "version": 3
   },
   "file_extension": ".py",
   "mimetype": "text/x-python",
   "name": "python",
   "nbconvert_exporter": "python",
   "pygments_lexer": "ipython3",
   "version": "3.6.4"
  }
 },
 "nbformat": 4,
 "nbformat_minor": 2
}
